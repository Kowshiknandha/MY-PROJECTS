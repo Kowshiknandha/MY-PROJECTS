{
  "nbformat": 4,
  "nbformat_minor": 0,
  "metadata": {
    "colab": {
      "provenance": [],
      "authorship_tag": "ABX9TyPZ3v102AtRDJ667cIb5rdi",
      "include_colab_link": true
    },
    "kernelspec": {
      "name": "python3",
      "display_name": "Python 3"
    },
    "language_info": {
      "name": "python"
    }
  },
  "cells": [
    {
      "cell_type": "markdown",
      "metadata": {
        "id": "view-in-github",
        "colab_type": "text"
      },
      "source": [
        "<a href=\"https://colab.research.google.com/github/Kowshiknandha/MY-PROJECTS/blob/main/Basic%20calculator.ipynb\" target=\"_parent\"><img src=\"https://colab.research.google.com/assets/colab-badge.svg\" alt=\"Open In Colab\"/></a>"
      ]
    },
    {
      "cell_type": "code",
      "execution_count": 3,
      "metadata": {
        "colab": {
          "base_uri": "https://localhost:8080/"
        },
        "id": "iAShqMCI2njo",
        "outputId": "d0862ad2-7fd0-42ae-bb9e-e8dd71ba77e1"
      },
      "outputs": [
        {
          "output_type": "stream",
          "name": "stdout",
          "text": [
            "Select operation \n",
            "1.Addition\n",
            "2.Subtraction\n",
            "3.Multiplication1\n",
            "4.Division\n",
            "\n",
            "operation4\n",
            "Enter  a number 10\n",
            "Enter  a number 2\n",
            "5\n",
            "None\n"
          ]
        }
      ],
      "source": [
        "def addition(a, b):\n",
        "   print (a+b )\n",
        "def subtraction(a, b):\n",
        "    print (a-b)\n",
        "def multiplication(a, b):\n",
        "    print(a * b)\n",
        "def division(a, b):\n",
        "    print (a//b)\n",
        "print(\"\"\"Select operation \n",
        "1.Addition\n",
        "2.Subtraction\n",
        "3.Multiplication1\n",
        "4.Division\n",
        "\"\"\") \n",
        "choice = int(input(\"operation\"))\n",
        "a = int(input(\"Enter  a number \"))\n",
        "b = int(input(\"Enter  a number \"))\n",
        "\n",
        "if choice == 1: \n",
        "    print(addition(a, b))\n",
        "elif choice == 2: \n",
        "    print(subtraction(a, b))\n",
        "elif choice == 3: \n",
        "    print(multiplication(a, b))\n",
        "elif choice == 4: \n",
        "    print(division(a, b))\n",
        "else: \n",
        "    print(\"Enter correct choice\")"
      ]
    }
  ]
}